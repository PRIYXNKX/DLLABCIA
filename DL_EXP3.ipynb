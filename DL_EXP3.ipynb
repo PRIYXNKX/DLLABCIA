{
 "cells": [
  {
   "cell_type": "code",
   "execution_count": null,
   "id": "ffc94f14-80e8-40fc-a50f-37675d93c1ea",
   "metadata": {},
   "outputs": [],
   "source": [
    "from ultralytics import YOLO\n",
    "import glob\n",
    "import os\n",
    "\n",
    "# Load model\n",
    "model = YOLO('yolov8n.pt')\n",
    "\n",
    "# Paths\n",
    "image_folder = '/content/dataset'\n",
    "output_folder = '/content/output'\n",
    "os.makedirs(output_folder, exist_ok=True)\n",
    "\n",
    "# Get all PNG and JPG images\n",
    "image_paths = glob.glob(os.path.join(image_folder, '.png')) + glob.glob(os.path.join(image_folder, '.jpg'))\n",
    "\n",
    "# Loop through all images\n",
    "for img_path in image_paths:\n",
    "    r = model(img_path)\n",
    "\n",
    "    # Save output image\n",
    "    out_path = os.path.join(output_folder, os.path.basename(img_path))\n",
    "    r[0].save(out_path)\n",
    "\n",
    "    # Print detections\n",
    "    print(f\"Image: {img_path}\")\n",
    "    print(\"Boxes:\", r[0].boxes.xyxy)\n",
    "    print(\"Confidences:\", r[0].boxes.conf)\n",
    "    print(\"Classes:\", r[0].boxes.cls)\n",
    "    print(\"-\" * 40)"
   ]
  }
 ],
 "metadata": {
  "kernelspec": {
   "display_name": "Python 3 (ipykernel)",
   "language": "python",
   "name": "python3"
  },
  "language_info": {
   "codemirror_mode": {
    "name": "ipython",
    "version": 3
   },
   "file_extension": ".py",
   "mimetype": "text/x-python",
   "name": "python",
   "nbconvert_exporter": "python",
   "pygments_lexer": "ipython3",
   "version": "3.12.2"
  }
 },
 "nbformat": 4,
 "nbformat_minor": 5
}
