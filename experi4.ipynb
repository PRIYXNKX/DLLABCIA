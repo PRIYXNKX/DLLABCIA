{
 "cells": [
  {
   "cell_type": "code",
   "execution_count": null,
   "id": "93807a84-942d-4e66-a2c3-6d6a5670eef7",
   "metadata": {},
   "outputs": [],
   "source": [
    "import glob\n",
    "import numpy as np\n",
    "import matplotlib.pyplot as plt\n",
    "from PIL import Image\n",
    "import tensorflow as tf\n",
    "from tensorflow.keras.layers import Input, Conv2D, MaxPooling2D, Conv2DTranspose\n",
    "from tensorflow.keras.models import Model\n",
    "\n",
    "BASE_DIR = 'cityscapes_data'    #Image base directory change as required\n",
    "IMG_HEIGHT, IMG_WIDTH = 128, 128 \n",
    "NUM_CLASSES = 13\n",
    "\n",
    "def load_data(path):\n",
    "    X, Y = [], []\n",
    "    bins = np.arange(20, 260, 20)\n",
    "    for f in glob.glob(path + \"/*.jpg\"):\n",
    "        img = Image.open(f)\n",
    "        X.append(np.array(img.crop((0,0,256,256))\n",
    "                            .convert('RGB')\n",
    "                            .resize((IMG_WIDTH, IMG_HEIGHT))))\n",
    "        msk = img.crop((256,0,512,256)).convert('L').resize((IMG_WIDTH, IMG_HEIGHT))\n",
    "        Y.append(np.digitize(np.array(msk), bins))\n",
    "    return np.array(X, np.float32)/255.0, np.array(Y, np.int32)\n",
    "\n",
    "def build_fcn(shape, classes):\n",
    "    x = inputs = Input(shape)\n",
    "    x = Conv2D(32, 3, activation='relu', padding='same')(x)\n",
    "    x = MaxPooling2D()(x)\n",
    "    x = Conv2D(64, 3, activation='relu', padding='same')(x)\n",
    "    x = MaxPooling2D()(x)\n",
    "    x = Conv2D(128, 3, activation='relu', padding='same')(x)\n",
    "    x = Conv2DTranspose(64, 2, strides=2, padding='same')(x)\n",
    "    x = Conv2DTranspose(32, 2, strides=2, padding='same')(x)\n",
    "    outputs = Conv2D(classes, 1, activation='softmax')(x)\n",
    "    return Model(inputs, outputs)\n",
    "\n",
    "X_train, y_train = load_data(BASE_DIR + '/train')\n",
    "X_val, y_val = load_data(BASE_DIR + '/val')\n",
    "\n",
    "model = build_fcn((IMG_HEIGHT, IMG_WIDTH, 3), NUM_CLASSES)\n",
    "model.compile(optimizer='adam', loss='sparse_categorical_crossentropy', metrics=['accuracy'])\n",
    "model.fit(X_train, y_train, batch_size=8, epochs=2, validation_data=(X_val, y_val))\n",
    "\n",
    "i = np.random.randint(len(X_val))\n",
    "pred = np.argmax(model.predict(X_val[i:i+1]), -1)[0]\n",
    "\n",
    "def show(title, img, cmap=None):\n",
    "    plt.imshow(img, cmap=cmap)\n",
    "    plt.title(title)\n",
    "    plt.axis(\"off\")\n",
    "    plt.show()\n",
    "\n",
    "show(\"Image\", X_val[i])\n",
    "show(\"True Mask\", y_val[i], cmap='jet')\n",
    "show(\"Predicted Mask\", pred, cmap='jet')"
   ]
  }
 ],
 "metadata": {
  "kernelspec": {
   "display_name": "Python 3 (ipykernel)",
   "language": "python",
   "name": "python3"
  },
  "language_info": {
   "codemirror_mode": {
    "name": "ipython",
    "version": 3
   },
   "file_extension": ".py",
   "mimetype": "text/x-python",
   "name": "python",
   "nbconvert_exporter": "python",
   "pygments_lexer": "ipython3",
   "version": "3.11.5"
  }
 },
 "nbformat": 4,
 "nbformat_minor": 5
}
